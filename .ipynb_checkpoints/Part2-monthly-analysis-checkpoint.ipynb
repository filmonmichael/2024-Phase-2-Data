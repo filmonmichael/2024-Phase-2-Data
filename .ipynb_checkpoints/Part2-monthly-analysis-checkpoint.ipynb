{
 "cells": [
  {
   "cell_type": "code",
   "execution_count": null,
   "id": "853bba64",
   "metadata": {},
   "outputs": [],
   "source": []
  },
  {
   "cell_type": "code",
   "execution_count": null,
   "id": "e9d81c16",
   "metadata": {},
   "outputs": [],
   "source": [
    "#the data is scaled already\n",
    "monthly_red_cols= pd.read_csv(\"monthly_red_cols.csv\", encoding='latin1',delimiter=',',header='infer')\n",
    "monthly_red_cols['Order Date'] = pd.to_datetime(monthly_red_cols['Order Date'])\n",
    "\n",
    "# Set 'Order Date' as the index\n",
    "monthly_red_cols.set_index('Order Date', inplace=True)\n",
    "\n"
   ]
  },
  {
   "cell_type": "code",
   "execution_count": null,
   "id": "f77b835b",
   "metadata": {},
   "outputs": [],
   "source": [
    "#checking for autocorrelation to help identify the repeating patterns in the data and help us select the right terms when fitting our time series model\n",
    "autocorrelation_lag1 = monthly_red_cols['Sales'].autocorr(lag=1)\n",
    "print(\"One Month Lag: \", autocorrelation_lag1)\n",
    "\n",
    "autocorrelation_lag3 = monthly_red_cols['Sales'].autocorr(lag=3)\n",
    "print(\"Three Month Lag: \", autocorrelation_lag3)\n",
    "\n",
    "autocorrelation_lag6 = monthly_red_cols['Sales'].autocorr(lag=6)\n",
    "print(\"Six Month Lag: \", autocorrelation_lag6)\n",
    "\n",
    "autocorrelation_lag12 = monthly_red_cols['Sales'].autocorr(lag=12)\n",
    "print(\"Twelve Month Lag: \", autocorrelation_lag12)\n"
   ]
  },
  {
   "cell_type": "code",
   "execution_count": null,
   "id": "1aac05d5",
   "metadata": {},
   "outputs": [],
   "source": [
    "monthly_red_cols.head()\n"
   ]
  },
  {
   "cell_type": "code",
   "execution_count": null,
   "id": "c804b0b7",
   "metadata": {},
   "outputs": [],
   "source": [
    "#Dcomposing the data to separate the trend and seasonal components to make it easier to visualize\n",
    "\n",
    "result = seasonal_decompose(monthly_red_cols['Sales'], model='additive')\n",
    "# Plot decomposition\n",
    "result.plot()\n",
    "plt.show()"
   ]
  },
  {
   "cell_type": "markdown",
   "id": "b5d0dcdc",
   "metadata": {},
   "source": [
    "From the decomposition plot we can see that here is a strong trend and seasonal pattern. However when we look at the residuals we can see there are some unusual values around December to February each year. For example around February 2015 seems to be a high residual. This could be due to the holiday shopping season or business cycles in retail. From the residuals of this model we can see there's still a pattern remainig, we will aim to capture this pattern by including terms in addition to the seasonal and first order differencing."
   ]
  },
  {
   "cell_type": "code",
   "execution_count": null,
   "id": "8f42d4ab",
   "metadata": {},
   "outputs": [],
   "source": [
    "#Extract residuals from the decomposition plots to see if there are any unusual values we can visibly see \n",
    "residuals = result.resid\n",
    "# Identify outliers in the residuals that are outside 3 standard deviations \n",
    "threshold = 3\n",
    "outliers = residuals[abs(residuals) > threshold * residuals.std()]\n",
    "print(outliers)"
   ]
  },
  {
   "cell_type": "code",
   "execution_count": null,
   "id": "8271f3e3",
   "metadata": {},
   "outputs": [],
   "source": [
    "#checking the stationarity on the residuals to see if trend and seasonal differencing resulted in stationary data\n",
    "\n",
    "adf_test = adfuller(residuals.dropna())\n",
    "print(f'ADF Statistic: {adf_test[0]}')\n",
    "print(f'p-value: {adf_test[1]}')"
   ]
  },
  {
   "cell_type": "markdown",
   "id": "3d2c798f",
   "metadata": {},
   "source": [
    "The residuals are stationary (p-value ≤ 0.05) after applying differencing. This suggests that when fitting our model we would need to apply differencing to ensure that our data meets the time series model assumption that the data must be stationary"
   ]
  },
  {
   "cell_type": "code",
   "execution_count": null,
   "id": "9baa5fe1",
   "metadata": {},
   "outputs": [],
   "source": [
    "# First-order differencing\n",
    "data_diff = monthly_red_cols['Sales'].diff().dropna()\n",
    "\n",
    "# Seasonal differencing\n",
    "data_seasonal_diff = monthly_red_cols['Sales'].diff(12).dropna()\n",
    "\n",
    "# Plot differenced data\n",
    "plt.figure(figsize=(10, 6))\n",
    "plt.plot(monthly_red_cols.index[1:], data_diff)\n",
    "plt.xlabel('Date')\n",
    "plt.ylabel('Sales Differenced')\n",
    "plt.title('Differenced Sales Over Time')\n",
    "plt.show()\n",
    "\n",
    "plt.figure(figsize=(10, 6))\n",
    "plt.plot(monthly_red_cols.index[12:], data_seasonal_diff)\n",
    "plt.xlabel('Date')\n",
    "plt.ylabel('Seasonal Differenced Sales')\n",
    "plt.title('Seasonal Differenced Sales Over Time')\n",
    "plt.show()"
   ]
  },
  {
   "cell_type": "code",
   "execution_count": null,
   "id": "225b6e36",
   "metadata": {},
   "outputs": [],
   "source": [
    "\n",
    "# ACF and PACF plots for differenced data\n",
    "plot_acf(data_diff)\n",
    "plt.title('ACF for Differenced Data')\n",
    "plt.show()\n",
    "\n",
    "plot_pacf(data_diff)\n",
    "plt.title('PACF for Differenced Data')\n",
    "plt.show()\n",
    "\n",
    "# ACF and PACF plots for seasonal differenced data\n",
    "plot_acf(data_seasonal_diff)\n",
    "plt.title('ACF for Seasonal Differenced Data')\n",
    "plt.show()\n",
    "\n",
    "plot_pacf(data_seasonal_diff)\n",
    "plt.title('PACF for Seasonal Differenced Data')\n",
    "plt.show()"
   ]
  },
  {
   "cell_type": "code",
   "execution_count": null,
   "id": "68015482",
   "metadata": {},
   "outputs": [],
   "source": [
    "y = monthly_red_cols['Sales']\n",
    "X = monthly_red_cols.drop(columns=['Sales'])\n",
    "\n",
    "# Train-test split\n",
    "train_size = int(len(X) * 0.8)  # 70-30 split\n",
    "X_train, X_test = X[:train_size], X[train_size:]\n",
    "y_train, y_test = y[:train_size], y[train_size:]\n"
   ]
  },
  {
   "cell_type": "markdown",
   "id": "944e44fc",
   "metadata": {},
   "source": [
    "After scaling the data it was noted that the p-values became non significant eventhough the lag terms were supposed to be as confirmed on the PACF and ACF plot. Therefore i have decided to use the original unscaled dataset."
   ]
  },
  {
   "cell_type": "code",
   "execution_count": null,
   "id": "bdf27849",
   "metadata": {},
   "outputs": [],
   "source": [
    "\n",
    "# Set random seed for reproducibility\n",
    "np.random.seed(42)\n",
    "\n",
    "# Fit SARIMA model\n",
    "model = SARIMAX(y_train, order=(1, 1, 1), seasonal_order=(1, 1, 0, 12), freq='M')\n",
    "\n",
    "model_results = model.fit()\n",
    "\n",
    "# Print model summary\n",
    "print(model_results.summary())\n",
    "\n",
    "# Plot the fitted values\n",
    "plt.figure(figsize=(10, 6))\n",
    "plt.plot(y_train, label='Observed')\n",
    "plt.plot(model_results.fittedvalues, label='Fitted', color='red')\n",
    "plt.title('Observed vs Fitted Sales')\n",
    "plt.xlabel('Date')\n",
    "plt.ylabel('Sales')\n",
    "plt.legend()\n",
    "plt.show()"
   ]
  },
  {
   "cell_type": "code",
   "execution_count": null,
   "id": "68e8f592",
   "metadata": {},
   "outputs": [],
   "source": [
    "\n",
    "forecasts = model_results.predict(start=len(X_train), end=len(X_train) + len(X_test) - 1, dynamic=False)\n",
    "\n",
    "plt.figure(figsize=(20, 10))\n",
    "plt.plot(y_train, label='Training')\n",
    "plt.plot(y_test.index, y_test, label='Actual')\n",
    "plt.plot(y_test.index, forecasts, label='Forecast', linestyle='--')\n",
    "plt.title('Sales Forecast')\n",
    "plt.xlabel('Date')\n",
    "plt.ylabel('Sales')\n",
    "plt.legend()\n",
    "plt.show()"
   ]
  },
  {
   "cell_type": "code",
   "execution_count": null,
   "id": "a2aa5c7d",
   "metadata": {},
   "outputs": [],
   "source": [
    "# Calculate evaluation metrics\n",
    "mae = mean_absolute_error(y_test, forecasts)\n",
    "mse = mean_squared_error(y_test, forecasts)\n",
    "rmse = np.sqrt(mse)\n",
    "\n",
    "print(f\"Mean Absolute Error (MAE): {mae}\")\n",
    "print(f\"Mean Squared Error (MSE): {mse}\")\n",
    "print(f\"Root Mean Squared Error (RMSE): {rmse}\")"
   ]
  },
  {
   "cell_type": "markdown",
   "id": "0429c9f8",
   "metadata": {},
   "source": [
    "After scaling the data it was noted that the p-values became non significant eventhough the lag terms were supposed to be as confirmed on the PACF and ACF plot. Therefore i have decided to use the original unscaled dataset."
   ]
  },
  {
   "cell_type": "code",
   "execution_count": null,
   "id": "bcf6c248",
   "metadata": {},
   "outputs": [],
   "source": [
    "# Plot residuals\n",
    "plt.figure(figsize=(10, 6))\n",
    "plt.plot(model_results.resid)\n",
    "plt.title('Residuals')\n",
    "plt.xlabel('Date')\n",
    "plt.ylabel('Residuals')\n",
    "plt.show()\n",
    "\n",
    "# Check residuals summary statistics\n",
    "print(model_results.resid.describe())"
   ]
  },
  {
   "cell_type": "code",
   "execution_count": null,
   "id": "937b23d8",
   "metadata": {},
   "outputs": [],
   "source": [
    "\n",
    "adf_test = adfuller(model_results.resid.dropna())\n",
    "print(f'ADF Statistic: {adf_test[0]}')\n",
    "print(f'p-value: {adf_test[1]}')"
   ]
  },
  {
   "cell_type": "code",
   "execution_count": null,
   "id": "916a46c7",
   "metadata": {},
   "outputs": [],
   "source": [
    "# Extract residuals from the fitted model\n",
    "residuals = model_results.resid\n",
    "\n",
    "# Plot ACF of the residuals\n",
    "plt.figure(figsize=(12, 6))\n",
    "plt.subplot(211)\n",
    "plot_acf(residuals.dropna(), ax=plt.gca(), lags=37)\n",
    "plt.title('ACF of Residuals')\n",
    "\n",
    "# Plot PACF of the residuals\n",
    "plt.subplot(212)\n",
    "plot_pacf(residuals.dropna(), ax=plt.gca(), lags=18)\n",
    "plt.title('PACF of Residuals')\n",
    "\n",
    "plt.tight_layout()\n",
    "plt.show()\n",
    "\n",
    "# Diagnostics\n",
    "model_results.plot_diagnostics(figsize=(15, 12))\n",
    "plt.show()\n",
    "\n",
    "# Forecasting\n",
    "forecast = model_results.get_forecast(steps=12)\n",
    "forecast_index = pd.date_range(start=monthly_red_cols.index[-1], periods=12, freq='M')\n",
    "forecast_values = forecast.predicted_mean\n",
    "forecast_ci = forecast.conf_int()\n",
    "\n",
    "plt.figure(figsize=(10, 6))\n",
    "plt.plot(monthly_red_cols['Sales'], label='Observed')\n",
    "plt.plot(forecast_index, forecast_values, label='Forecast', color='green')\n",
    "plt.fill_between(forecast_index, forecast_ci.iloc[:, 0], forecast_ci.iloc[:, 1], color='green', alpha=0.3)\n",
    "plt.title('Sales Forecast')\n",
    "plt.xlabel('Date')\n",
    "plt.ylabel('Sales')\n",
    "plt.legend()\n",
    "plt.show()"
   ]
  }
 ],
 "metadata": {
  "kernelspec": {
   "display_name": "Python 3 (ipykernel)",
   "language": "python",
   "name": "python3"
  },
  "language_info": {
   "codemirror_mode": {
    "name": "ipython",
    "version": 3
   },
   "file_extension": ".py",
   "mimetype": "text/x-python",
   "name": "python",
   "nbconvert_exporter": "python",
   "pygments_lexer": "ipython3",
   "version": "3.11.7"
  }
 },
 "nbformat": 4,
 "nbformat_minor": 5
}
